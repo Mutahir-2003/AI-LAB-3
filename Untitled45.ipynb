{
 "cells": [
  {
   "cell_type": "code",
   "execution_count": 1,
   "id": "bb4e46c9-56eb-4821-91e9-8ab6807e1b5f",
   "metadata": {},
   "outputs": [
    {
     "name": "stdout",
     "output_type": "stream",
     "text": [
      "Original Table:\n",
      "[['male' '6' '180' '12']\n",
      " ['male' '5.92' '190' '11']\n",
      " ['male' '5.58' '170' '12']\n",
      " ['male' '5.92' '165' '10']\n",
      " ['female' '5' '100' '6']\n",
      " ['female' '5.5' '150' '8']\n",
      " ['female' '5.42' '130' '7']\n",
      " ['female' '5.75' '150' '9']]\n",
      "\n",
      "Updated Table:\n",
      "[['male' '6' '180' '12']\n",
      " ['male' '5.92' '190' '11']\n",
      " ['male' '5.58' '170' '12']\n",
      " ['male' '5.92' '165' '10']\n",
      " ['female' '5' '100' '6']\n",
      " ['female' '5.5' '150' '8']\n",
      " ['female' '5.42' '130' '7']\n",
      " ['female' '5.75' '150' '9']\n",
      " ['male' '5.9' '160' '10']]\n",
      "\n",
      "Predicted Gender for the new entry: male\n"
     ]
    }
   ],
   "source": [
    "import numpy as np\n",
    "from openpyxl import load_workbook\n",
    "from sklearn.tree import DecisionTreeClassifier\n",
    "from sklearn.preprocessing import LabelEncoder\n",
    "\n",
    "# Load data from Excel file\n",
    "file_path = 'Lab5.xlsx'  # Update this to the path of your Excel file\n",
    "workbook = load_workbook(file_path)\n",
    "sheet = workbook.active\n",
    "\n",
    "# Read data from the sheet into a numpy array\n",
    "data = []\n",
    "for row in sheet.iter_rows(min_row=2, values_only=True):  # Skip header row\n",
    "    data.append(row)\n",
    "data = np.array(data)\n",
    "\n",
    "# Separate features and target\n",
    "X = data[:, 1:].astype(float)  # Height, Weight, Foot_Size\n",
    "y = data[:, 0]  # Gender\n",
    "\n",
    "# Encode the 'Gender' labels\n",
    "le = LabelEncoder()\n",
    "y_encoded = le.fit_transform(y)  # male -> 1, female -> 0\n",
    "\n",
    "# Train Decision Tree Classifier\n",
    "clf = DecisionTreeClassifier()\n",
    "clf.fit(X, y_encoded)\n",
    "\n",
    "# Define a new entry to predict\n",
    "new_entry = ['male', 5.9, 160, 10]  # Example new entry\n",
    "new_entry_features = np.array(new_entry[1:]).astype(float).reshape(1, -1)\n",
    "\n",
    "# Add the new entry to the dataset\n",
    "X = np.vstack([X, new_entry_features])\n",
    "y_encoded = np.append(y_encoded, le.transform([new_entry[0]]))\n",
    "\n",
    "# Re-train Decision Tree Classifier with the updated dataset\n",
    "clf.fit(X, y_encoded)\n",
    "# Predict the gender for the new entry\n",
    "prediction = clf.predict(new_entry_features)\n",
    "predicted_gender = le.inverse_transform(prediction)\n",
    "# Display the original table, updated table, and prediction result\n",
    "print(\"Original Table:\")\n",
    "print(data)\n",
    "print(\"\\nUpdated Table:\")\n",
    "updated_data = np.vstack([data, new_entry])  # Combine original and new entry data for display\n",
    "print(updated_data)\n",
    "\n",
    "print(f\"\\nPredicted Gender for the new entry: {predicted_gender[0]}\")\n"
   ]
  },
  {
   "cell_type": "code",
   "execution_count": null,
   "id": "fe2a3d46-617f-4a5c-b69d-fb7647856876",
   "metadata": {},
   "outputs": [],
   "source": []
  }
 ],
 "metadata": {
  "kernelspec": {
   "display_name": "Python 3 (ipykernel)",
   "language": "python",
   "name": "python3"
  },
  "language_info": {
   "codemirror_mode": {
    "name": "ipython",
    "version": 3
   },
   "file_extension": ".py",
   "mimetype": "text/x-python",
   "name": "python",
   "nbconvert_exporter": "python",
   "pygments_lexer": "ipython3",
   "version": "3.11.7"
  }
 },
 "nbformat": 4,
 "nbformat_minor": 5
}
