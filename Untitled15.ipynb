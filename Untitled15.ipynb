{
 "cells": [
  {
   "cell_type": "code",
   "execution_count": 2,
   "id": "a159204f-bd54-4d2f-8798-9e9f4d947461",
   "metadata": {},
   "outputs": [
    {
     "name": "stdout",
     "output_type": "stream",
     "text": [
      "Abdullah\n",
      "Babar\n",
      "Farhan\n",
      "Darim\n",
      "Bilal\n"
     ]
    }
   ],
   "source": [
    "names = [\"Abdullah\", \"Babar\", \"Farhan\", \"Darim\", \"Bilal\"]\n",
    "for name in names:\n",
    "    print(name)\n"
   ]
  },
  {
   "cell_type": "code",
   "execution_count": 3,
   "id": "91d4932d-0d9f-4568-a6e1-d8bfc6995236",
   "metadata": {},
   "outputs": [
    {
     "name": "stdout",
     "output_type": "stream",
     "text": [
      "Dear Talha Altaf,\n",
      "I would be honored to have you for dinner. Please join me!\n",
      "\n",
      "Dear Hassan Jameel,\n",
      "I would be honored to have you for dinner. Please join me!\n",
      "\n",
      "Dear Taha Iqbal,\n",
      "I would be honored to have you for dinner. Please join me!\n",
      "\n"
     ]
    }
   ],
   "source": [
    "# List of people to invite to dinner\n",
    "guests = [\"Talha Altaf\", \"Hassan Jameel\", \"Taha Iqbal\"]\n",
    "# Loop through the list and print an invitation for each person\n",
    "for guest in guests:\n",
    "    print(f\"Dear {guest},\\nI would be honored to have you for dinner. Please join me!\\n\")\n",
    "\n"
   ]
  },
  {
   "cell_type": "code",
   "execution_count": 4,
   "id": "701903fb-a29a-4668-a6ed-2aca3514bd20",
   "metadata": {},
   "outputs": [
    {
     "name": "stdout",
     "output_type": "stream",
     "text": [
      "Dear Talha Altaf,\n",
      "I would be honored to have you for dinner. Please join me!\n",
      "\n",
      "Dear Hassan Jameel,\n",
      "I would be honored to have you for dinner. Please join me!\n",
      "\n",
      "Dear Ali Khan,\n",
      "I would be honored to have you for dinner. Please join me!\n",
      "\n"
     ]
    }
   ],
   "source": [
    "# Original list of people to invite to dinner\n",
    "guests = [\"Talha Altaf\", \"Hassan Jameel\", \"Taha Iqbal\"]\n",
    "\n",
    "# Assume that Taha Iqbal can't make it, so we replace him with a new guest\n",
    "guests[2] = \"Ali Khan\"\n",
    "\n",
    "# Loop through the updated list and print an invitation for each person\n",
    "for guest in guests:\n",
    "    print(f\"Dear {guest},\\nI would be honored to have you for dinner. Please join me!\\n\")"
   ]
  },
  {
   "cell_type": "code",
   "execution_count": 5,
   "id": "91eae0d8-395e-4716-a163-534cddcf219b",
   "metadata": {},
   "outputs": [
    {
     "name": "stdout",
     "output_type": "stream",
     "text": [
      "Total number of employees: 2\n",
      "Employee Name: Abdullah Khan, Salary: $50000\n",
      "Employee Name: Mutahir Imam, Salary: $60000\n"
     ]
    }
   ],
   "source": [
    "class Employee:\n",
    "    # Class variable to keep track of the number of employees\n",
    "    employee_count = 0\n",
    "    def __init__(self, empName, salary):\n",
    "        # Instance variables for employee name and salary\n",
    "        self.empName = empName\n",
    "        self.salary = salary   \n",
    "        # Increment the employee count whenever a new employee is created\n",
    "        Employee.employee_count += 1\n",
    "    # Function to display the total number of employees\n",
    "    @staticmethod\n",
    "    def displayCount():\n",
    "        print(f\"Total number of employees: {Employee.employee_count}\")\n",
    "    # Function to display employee details\n",
    "    def displayEmployee(self):\n",
    "        print(f\"Employee Name: {self.empName}, Salary: ${self.salary}\")\n",
    "# Create employee objects\n",
    "emp1 = Employee(\"Abdullah Khan\", 50000)\n",
    "emp2 = Employee(\"Mutahir Imam\", 60000)\n",
    "# Display the total count of employees\n",
    "Employee.displayCount()\n",
    "# Display individual employee details\n",
    "emp1.displayEmployee()\n",
    "emp2.displayEmployee()"
   ]
  },
  {
   "cell_type": "code",
   "execution_count": 6,
   "id": "f3e77e74-a961-48a0-b0da-def4135c6e6f",
   "metadata": {},
   "outputs": [
    {
     "name": "stdout",
     "output_type": "stream",
     "text": [
      "Queue items in LIFO order:\n",
      "3\n",
      "2\n",
      "1\n"
     ]
    }
   ],
   "source": [
    "import queue\n",
    "# Create a LIFO queue\n",
    "lifo_queue = queue.LifoQueue()\n",
    "# Add items to the LIFO queue (Last-In)\n",
    "lifo_queue.put(1)\n",
    "lifo_queue.put(2)\n",
    "lifo_queue.put(3)\n",
    "# Display the queue's content (it's not possible to directly print LifoQueue content, so we'll retrieve and display items)\n",
    "print(\"Queue items in LIFO order:\")\n",
    "while not lifo_queue.empty():\n",
    "    print(lifo_queue.get())"
   ]
  },
  {
   "cell_type": "code",
   "execution_count": 7,
   "id": "babd5c5a-4ea7-4400-926b-e2bf5b25a9c7",
   "metadata": {},
   "outputs": [
    {
     "name": "stdout",
     "output_type": "stream",
     "text": [
      "[8, 7, 4, 3, 1]\n"
     ]
    }
   ],
   "source": [
    "import heapq\n",
    "class MaxPriorityQueue:\n",
    "    def __init__(self):\n",
    "        self.queue = []\n",
    "    def push(self, item):\n",
    "        heapq.heappush(self.queue, -item)\n",
    "    def pop(self):\n",
    "        return -heapq.heappop(self.queue)  \n",
    "    def peek(self):\n",
    "        return -self.queue[0]  \n",
    "    def __str__(self):\n",
    "        return str(sorted([-item for item in self.queue], reverse=True))\n",
    "# Create an instance of MaxPriorityQueue\n",
    "pq = MaxPriorityQueue()\n",
    "# Given array\n",
    "arr = [4, 8, 1, 7, 3]\n",
    "# Insert elements into the priority queue\n",
    "for num in arr:\n",
    "    pq.push(num)\n",
    "# Display the priority queue\n",
    "print(pq)"
   ]
  },
  {
   "cell_type": "code",
   "execution_count": 8,
   "id": "cf084e37-a941-400f-b90e-2385d57ee3ef",
   "metadata": {},
   "outputs": [
    {
     "name": "stdout",
     "output_type": "stream",
     "text": [
      "1 connected to: [2]\n",
      "dict_keys([<__main__.Vertex object at 0x0000027D04ED2E90>])\n",
      "(Vertex: 1, Neighbor: 2, Weight: 5)\n",
      "2 connected to: [3]\n",
      "dict_keys([<__main__.Vertex object at 0x0000027D04ED2990>])\n",
      "(Vertex: 2, Neighbor: 3, Weight: 3)\n",
      "3 connected to: []\n",
      "dict_keys([])\n"
     ]
    }
   ],
   "source": []
  },
  {
   "cell_type": "code",
   "execution_count": null,
   "id": "756bef85-c8f9-4207-a8f5-5941a0b62a53",
   "metadata": {},
   "outputs": [],
   "source": []
  }
 ],
 "metadata": {
  "kernelspec": {
   "display_name": "Python 3 (ipykernel)",
   "language": "python",
   "name": "python3"
  },
  "language_info": {
   "codemirror_mode": {
    "name": "ipython",
    "version": 3
   },
   "file_extension": ".py",
   "mimetype": "text/x-python",
   "name": "python",
   "nbconvert_exporter": "python",
   "pygments_lexer": "ipython3",
   "version": "3.13.0"
  }
 },
 "nbformat": 4,
 "nbformat_minor": 5
}
