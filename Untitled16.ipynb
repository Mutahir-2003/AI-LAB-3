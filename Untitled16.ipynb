{
 "cells": [
  {
   "cell_type": "code",
   "execution_count": 1,
   "id": "f77c4e61-40c9-4510-8631-9cd534460738",
   "metadata": {},
   "outputs": [
    {
     "name": "stdout",
     "output_type": "stream",
     "text": [
      "1 connected to: [2]\n",
      "dict_keys([<__main__.Vertex object at 0x0000025FFF870410>])\n",
      "(Vertex: 1, Neighbor: 2, Weight: 5)\n",
      "2 connected to: [3]\n",
      "dict_keys([<__main__.Vertex object at 0x0000025FFFE3E0D0>])\n",
      "(Vertex: 2, Neighbor: 3, Weight: 3)\n",
      "3 connected to: []\n",
      "dict_keys([])\n"
     ]
    },
    {
     "data": {
      "image/png": "[encoded data removed]",
      "text/plain": [
       "<Figure size 640x480 with 1 Axes>"
      ]
     },
     "metadata": {},
     "output_type": "display_data"
    }
   ],
   "source": [
    "import networkx as nx\n",
    "import matplotlib.pyplot as plt\n",
    "class Vertex:\n",
    "    def __init__(self, key):\n",
    "        self.id = key\n",
    "        self.connected_to = {}\n",
    "    def add_neighbor(self, nbr, weight=0):\n",
    "        self.connected_to[nbr] = weight\n",
    "    def __str__(self):\n",
    "        return str(self.id) + ' connected to: ' + str([x.id for x in self.connected_to])\n",
    "    def get_connections(self):\n",
    "        return self.connected_to.keys()\n",
    "    def get_id(self):\n",
    "        return self.id\n",
    "    def get_weight(self, nbr):\n",
    "        return self.connected_to[nbr]\n",
    "class Graph:\n",
    "    def __init__(self):\n",
    "        self.vert_list = {}\n",
    "        self.num_vertices = 0\n",
    "    def add_vertex(self, key):\n",
    "        self.num_vertices += 1\n",
    "        new_vertex = Vertex(key)\n",
    "        self.vert_list[key] = new_vertex\n",
    "        return new_vertex\n",
    "    def get_vertex(self, n):\n",
    "        if n in self.vert_list:\n",
    "            return self.vert_list[n]\n",
    "        else:\n",
    "            return None\n",
    "    def add_edge(self, f, t, cost=0):\n",
    "        if f not in self.vert_list:\n",
    "            self.add_vertex(f)\n",
    "        if t not in self.vert_list:\n",
    "            self.add_vertex(t)\n",
    "        self.vert_list[f].add_neighbor(self.vert_list[t], cost)\n",
    "    def get_vertices(self):\n",
    "        return self.vert_list.keys()\n",
    "    def __contains__(self, n):\n",
    "        return n in self.vert_list\n",
    "    def __iter__(self):\n",
    "        return iter(self.vert_list.values())\n",
    "    def visualize(self):\n",
    "        G = nx.DiGraph()\n",
    "        for vertex in self.vert_list.values():\n",
    "            for neighbor in vertex.get_connections():\n",
    "                G.add_edge(vertex.get_id(), neighbor.get_id(), weight=vertex.get_weight(neighbor)) \n",
    "        pos = nx.spring_layout(G)\n",
    "        edge_labels = {(u, v): d['weight'] for u, v, d in G.edges(data=True)}\n",
    "        nx.draw(G, pos, with_labels=True, node_size=700, node_color='skyblue', font_size=15, font_color='black')\n",
    "        nx.draw_networkx_edge_labels(G, pos, edge_labels=edge_labels)\n",
    "        plt.show()\n",
    "# Example usage:\n",
    "g = Graph()\n",
    "g.add_vertex(1)\n",
    "g.add_vertex(2)\n",
    "g.add_vertex(3)\n",
    "g.add_edge(1, 2, 5)\n",
    "g.add_edge(2, 3, 3)\n",
    "for v in g:\n",
    "    print(v)\n",
    "    print(v.get_connections())\n",
    "    for w in v.get_connections():\n",
    "        print(f\"(Vertex: {v.get_id()}, Neighbor: {w.get_id()}, Weight: {v.get_weight(w)})\")\n",
    "# Visualize the graph\n",
    "g.visualize()\n"
   ]
  },
  {
   "cell_type": "code",
   "execution_count": null,
   "id": "3f26d6a9-42e6-4d20-bcd0-c40165cd16d5",
   "metadata": {},
   "outputs": [],
   "source": []
  }
 ],
 "metadata": {
  "kernelspec": {
   "display_name": "Python 3 (ipykernel)",
   "language": "python",
   "name": "python3"
  },
  "language_info": {
   "codemirror_mode": {
    "name": "ipython",
    "version": 3
   },
   "file_extension": ".py",
   "mimetype": "text/x-python",
   "name": "python",
   "nbconvert_exporter": "python",
   "pygments_lexer": "ipython3",
   "version": "3.13.0"
  }
 },
 "nbformat": 4,
 "nbformat_minor": 5
}
