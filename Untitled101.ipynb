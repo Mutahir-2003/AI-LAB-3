{
 "cells": [
  {
   "cell_type": "code",
   "execution_count": 1,
   "id": "599fa6be-6f9b-4b71-9356-afeb5abd4da2",
   "metadata": {},
   "outputs": [
    {
     "name": "stdout",
     "output_type": "stream",
     "text": [
      "Dataset:\n",
      "  Object    X    Y    Z\n",
      "0      A  1.0  2.0  3.0\n",
      "1      B  1.5  1.8  3.2\n",
      "2      C  5.0  8.0  7.5\n",
      "3      D  8.0  8.0  8.0\n",
      "4      E  1.2  0.8  1.5\n",
      "5      F  6.0  7.0  7.0\n",
      "6      G  1.4  1.6  2.0\n",
      "7      H  9.0  8.0  8.5\n",
      "\n",
      "New Centroids:\n",
      "Centroid 1: [7.   7.75 7.75]\n",
      "Centroid 2: [1.275 1.55  2.425]\n",
      "\n",
      "Dataset with Clusters:\n",
      "  Object    X    Y    Z  Cluster\n",
      "0      A  1.0  2.0  3.0        1\n",
      "1      B  1.5  1.8  3.2        1\n",
      "2      C  5.0  8.0  7.5        0\n",
      "3      D  8.0  8.0  8.0        0\n",
      "4      E  1.2  0.8  1.5        1\n",
      "5      F  6.0  7.0  7.0        0\n",
      "6      G  1.4  1.6  2.0        1\n",
      "7      H  9.0  8.0  8.5        0\n"
     ]
    },
    {
     "name": "stderr",
     "output_type": "stream",
     "text": [
      "C:\\Users\\SED\\anaconda3\\Lib\\site-packages\\sklearn\\cluster\\_kmeans.py:1429: UserWarning: KMeans is known to have a memory leak on Windows with MKL, when there are less chunks than available threads. You can avoid it by setting the environment variable OMP_NUM_THREADS=1.\n",
      "  warnings.warn(\n"
     ]
    }
   ],
   "source": [
    "import pandas as pd\n",
    "from sklearn.cluster import KMeans\n",
    "# Sample dataset\n",
    "data = {\n",
    "    \"Object\": [\"A\", \"B\", \"C\", \"D\", \"E\", \"F\", \"G\", \"H\"],\n",
    "    \"X\": [1.0, 1.5, 5.0, 8.0, 1.2, 6.0, 1.4, 9.0],\n",
    "    \"Y\": [2.0, 1.8, 8.0, 8.0, 0.8, 7.0, 1.6, 8.0],\n",
    "    \"Z\": [3.0, 3.2, 7.5, 8.0, 1.5, 7.0, 2.0, 8.5]\n",
    "}\n",
    "# Load dataset into DataFrame\n",
    "df = pd.DataFrame(data)\n",
    "# Display the dataset\n",
    "print(\"Dataset:\")\n",
    "print(df)\n",
    "# K-Means Clustering with K=2\n",
    "kmeans = KMeans(n_clusters=2, random_state=42)\n",
    "df['Cluster'] = kmeans.fit_predict(df[['X', 'Y', 'Z']])\n",
    "# New centroid values\n",
    "centroids = kmeans.cluster_centers_\n",
    "print(\"\\nNew Centroids:\")\n",
    "for i, centroid in enumerate(centroids, start=1):\n",
    "    print(f\"Centroid {i}: {centroid}\")\n",
    "# Display dataset with clusters\n",
    "print(\"\\nDataset with Clusters:\")\n",
    "print(df)"
   ]
  },
  {
   "cell_type": "code",
   "execution_count": null,
   "id": "6a5a66ee-2ec4-4f58-8799-9ac3308b05b5",
   "metadata": {},
   "outputs": [],
   "source": []
  }
 ],
 "metadata": {
  "kernelspec": {
   "display_name": "Python 3 (ipykernel)",
   "language": "python",
   "name": "python3"
  },
  "language_info": {
   "codemirror_mode": {
    "name": "ipython",
    "version": 3
   },
   "file_extension": ".py",
   "mimetype": "text/x-python",
   "name": "python",
   "nbconvert_exporter": "python",
   "pygments_lexer": "ipython3",
   "version": "3.11.7"
  }
 },
 "nbformat": 4,
 "nbformat_minor": 5
}
