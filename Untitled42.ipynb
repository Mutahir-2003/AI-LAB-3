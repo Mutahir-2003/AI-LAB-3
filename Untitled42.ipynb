{
 "cells": [
  {
   "cell_type": "code",
   "execution_count": 2,
   "id": "87ce7871-09f8-44f0-80e0-90328cebbcb9",
   "metadata": {},
   "outputs": [
    {
     "name": "stdout",
     "output_type": "stream",
     "text": [
      "Prediction for Company=Honda and Car Model=Sedan: Yes\n",
      "\n",
      "Confusion Matrix:\n",
      " [[1 2]\n",
      " [0 1]]\n",
      "\n",
      "Classification Report:\n",
      "               precision    recall  f1-score   support\n",
      "\n",
      "          No       1.00      0.33      0.50         3\n",
      "         Yes       0.33      1.00      0.50         1\n",
      "\n",
      "    accuracy                           0.50         4\n",
      "   macro avg       0.67      0.67      0.50         4\n",
      "weighted avg       0.83      0.50      0.50         4\n",
      "\n"
     ]
    }
   ],
   "source": [
    "import pandas as pd\n",
    "from sklearn.model_selection import train_test_split\n",
    "from sklearn.preprocessing import LabelEncoder\n",
    "from sklearn.naive_bayes import GaussianNB\n",
    "from sklearn.metrics import confusion_matrix, classification_report\n",
    "\n",
    "# Define the dataset\n",
    "data = {\n",
    "    'Company': ['Toyota', 'Toyota', 'Honda', 'Ford', 'Ford', 'Ford', 'Honda', 'Toyota', 'Toyota', \n",
    "                'Ford', 'Ford', 'Toyota', 'Honda', 'Honda', 'Honda', 'Ford'],\n",
    "    'Car Model': ['SUV', 'Sedan', 'Sedan', 'Truck', 'Hatchback', 'Hatchback', 'Hatchback', 'Truck', 'SUV', \n",
    "                  'SUV', 'SUV', 'Truck', 'Sedan', 'Sedan', 'SUV', 'Sedan'],\n",
    "    'Buy': ['No', 'No', 'Yes', 'Yes', 'Yes', 'No', 'Yes', 'No', 'No', 'Yes', 'Yes', 'Yes', 'Yes', 'Yes', 'Yes', 'No']\n",
    "}\n",
    "\n",
    "# Convert the dataset into a DataFrame\n",
    "df = pd.DataFrame(data)\n",
    "\n",
    "# Encode categorical features\n",
    "label_encoder_company = LabelEncoder()\n",
    "label_encoder_car_model = LabelEncoder()\n",
    "label_encoder_buy = LabelEncoder()\n",
    "\n",
    "df['Company'] = label_encoder_company.fit_transform(df['Company'])\n",
    "df['Car Model'] = label_encoder_car_model.fit_transform(df['Car Model'])\n",
    "df['Buy'] = label_encoder_buy.fit_transform(df['Buy'])\n",
    "\n",
    "# Define features and target variable\n",
    "X = df[['Company', 'Car Model']]\n",
    "y = df['Buy']\n",
    "\n",
    "# Split the data into training and testing sets\n",
    "X_train, X_test, y_train, y_test = train_test_split(X, y, test_size=0.2, random_state=42)\n",
    "\n",
    "# Train the Naive Bayes model\n",
    "naive_bayes = GaussianNB()\n",
    "naive_bayes.fit(X_train, y_train)\n",
    "\n",
    "# Predict for a new instance (Honda, Sedan)\n",
    "new_data = pd.DataFrame([[label_encoder_company.transform(['Honda'])[0], \n",
    "                          label_encoder_car_model.transform(['Sedan'])[0]]], \n",
    "                        columns=['Company', 'Car Model'])\n",
    "predicted_buy = naive_bayes.predict(new_data)\n",
    "\n",
    "# Evaluate the model\n",
    "y_pred = naive_bayes.predict(X_test)\n",
    "conf_matrix = confusion_matrix(y_test, y_pred)\n",
    "class_report = classification_report(y_test, y_pred, target_names=['No', 'Yes'])\n",
    "predicted_buy_text = label_encoder_buy.inverse_transform(predicted_buy)[0]\n",
    "\n",
    "# Display the results\n",
    "print(\"Prediction for Company=Honda and Car Model=Sedan:\", predicted_buy_text)\n",
    "print(\"\\nConfusion Matrix:\\n\", conf_matrix)\n",
    "print(\"\\nClassification Report:\\n\", class_report)\n"
   ]
  },
  {
   "cell_type": "code",
   "execution_count": null,
   "id": "9adcfdca-ba0f-455c-bc4e-cf171f6e4813",
   "metadata": {},
   "outputs": [],
   "source": []
  }
 ],
 "metadata": {
  "kernelspec": {
   "display_name": "Python 3 (ipykernel)",
   "language": "python",
   "name": "python3"
  },
  "language_info": {
   "codemirror_mode": {
    "name": "ipython",
    "version": 3
   },
   "file_extension": ".py",
   "mimetype": "text/x-python",
   "name": "python",
   "nbconvert_exporter": "python",
   "pygments_lexer": "ipython3",
   "version": "3.11.7"
  }
 },
 "nbformat": 4,
 "nbformat_minor": 5
}
