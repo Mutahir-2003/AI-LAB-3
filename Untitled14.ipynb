{
 "cells": [
  {
   "cell_type": "code",
   "execution_count": 1,
   "id": "727aa1d5-43d6-4e81-8afc-be4d8dca8a03",
   "metadata": {},
   "outputs": [
    {
     "name": "stdout",
     "output_type": "stream",
     "text": [
      "Ratings Dataset:\n",
      "       Tesla Model S  Toyota Corolla  BMW X5  Audi A6  Honda Civic  \\\n",
      "User                                                                 \n",
      "User1              5               3       0        4            4   \n",
      "User2              4               5       3        0            4   \n",
      "User3              5               4       4        5            3   \n",
      "User4              3               5       0        4            5   \n",
      "User5              5               4       5        3            4   \n",
      "\n",
      "       Ford Mustang  Hyundai Elantra  Chevrolet Camaro  Nissan Altima  \\\n",
      "User                                                                    \n",
      "User1             5                3                 2              4   \n",
      "User2             3                5                 0              5   \n",
      "User3             0                4                 5              4   \n",
      "User4             4                0                 5              3   \n",
      "User5             3                4                 0              5   \n",
      "\n",
      "       Mercedes C-Class  \n",
      "User                     \n",
      "User1                 5  \n",
      "User2                 4  \n",
      "User3                 5  \n",
      "User4                 4  \n",
      "User5                 5  \n",
      "Recommended cars for User1: []\n"
     ]
    }
   ],
   "source": [
    "import pandas as pd\n",
    "from sklearn.metrics.pairwise import cosine_similarity\n",
    "from sklearn.neighbors import NearestNeighbors\n",
    "import numpy as np\n",
    "ratings = pd.read_csv('Cars1.csv', index_col=0)\n",
    "print(\"Ratings Dataset:\")\n",
    "print(ratings)\n",
    "def recommend_cars(user_name, k=5):\n",
    "    ratings_filled = ratings.fillna(0)\n",
    "    item_similarity = cosine_similarity(ratings_filled.T)\n",
    "    similarity_df = pd.DataFrame(item_similarity, index=ratings.columns, columns=ratings.columns)\n",
    "    knn = NearestNeighbors(metric='cosine', algorithm='brute')\n",
    "    knn.fit(ratings_filled.T)\n",
    "    try:\n",
    "        user_ratings = ratings.loc[user_name]\n",
    "    except KeyError:\n",
    "        raise ValueError(f\"User '{user_name}' not found in the dataset.\")\n",
    "    predicted_ratings = {}\n",
    "    for car in ratings.columns:\n",
    "        if pd.isna(user_ratings[car]):\n",
    "            try:\n",
    "                car_vector = ratings_filled.T.loc[car].values.reshape(1, -1)\n",
    "                distances, indices = knn.kneighbors(car_vector, n_neighbors=k)\n",
    "                similar_cars = similarity_df[car].iloc[indices.flatten()]\n",
    "                weighted_sum = np.dot(similar_cars, ratings_filled.loc[user_name])\n",
    "                similarity_sum = similar_cars.sum()\n",
    "                predicted_ratings[car] = weighted_sum / similarity_sum if similarity_sum != 0 else 0\n",
    "            except KeyError:\n",
    "                continue\n",
    "    recommended_cars = sorted(predicted_ratings.items(), key=lambda x: x[1], reverse=True)\n",
    "    return [car for car, rating in recommended_cars]\n",
    "\n",
    "user_to_recommend = 'User1'\n",
    "try:\n",
    "    recommended_cars = recommend_cars(user_to_recommend)\n",
    "    print(f\"Recommended cars for {user_to_recommend}: {recommended_cars}\")\n",
    "except ValueError as e:\n",
    "    print(e)\n",
    "    \n"
   ]
  },
  {
   "cell_type": "code",
   "execution_count": null,
   "id": "8c0d1e3c-1cd9-4c41-ae81-3c1f235ac0b2",
   "metadata": {},
   "outputs": [],
   "source": []
  }
 ],
 "metadata": {
  "kernelspec": {
   "display_name": "Python 3 (ipykernel)",
   "language": "python",
   "name": "python3"
  },
  "language_info": {
   "codemirror_mode": {
    "name": "ipython",
    "version": 3
   },
   "file_extension": ".py",
   "mimetype": "text/x-python",
   "name": "python",
   "nbconvert_exporter": "python",
   "pygments_lexer": "ipython3",
   "version": "3.13.0"
  }
 },
 "nbformat": 4,
 "nbformat_minor": 5
}
