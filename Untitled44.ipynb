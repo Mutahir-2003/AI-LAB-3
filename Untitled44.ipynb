{
 "cells": [
  {
   "cell_type": "code",
   "execution_count": 2,
   "id": "793dfeff-8874-45b4-b8a7-e39e4280d39c",
   "metadata": {},
   "outputs": [
    {
     "name": "stdout",
     "output_type": "stream",
     "text": [
      "Original Table:\n",
      "   Gender  Height  Weight  Foot_Size\n",
      "0    male    6.00     180         12\n",
      "1    male    5.92     190         11\n",
      "2    male    5.58     170         12\n",
      "3    male    5.92     165         10\n",
      "4  female    5.00     100          6\n",
      "5  female    5.50     150          8\n",
      "6  female    5.42     130          7\n",
      "7  female    5.75     150          9\n",
      "\n",
      "Updated Table:\n",
      "   Gender  Height  Weight  Foot_Size\n",
      "0    male    6.00     180         12\n",
      "1    male    5.92     190         11\n",
      "2    male    5.58     170         12\n",
      "3    male    5.92     165         10\n",
      "4  female    5.00     100          6\n",
      "5  female    5.50     150          8\n",
      "6  female    5.42     130          7\n",
      "7  female    5.75     150          9\n",
      "8    male    5.90     160         10\n",
      "\n",
      "Predicted Gender for the new entry: male\n"
     ]
    },
    {
     "name": "stderr",
     "output_type": "stream",
     "text": [
      "C:\\Users\\ABC\\anaconda3\\Lib\\site-packages\\sklearn\\base.py:439: UserWarning: X does not have valid feature names, but DecisionTreeClassifier was fitted with feature names\n",
      "  warnings.warn(\n"
     ]
    }
   ],
   "source": [
    "import pandas as pd\n",
    "from sklearn.tree import DecisionTreeClassifier\n",
    "from sklearn.preprocessing import LabelEncoder\n",
    "\n",
    "# Step 1: Load data from Excel file\n",
    "file_path = 'Lab5.xlsx'  # Update this path to the location of your Excel file\n",
    "df = pd.read_excel(file_path)\n",
    "\n",
    "# Step 2: Display the original table\n",
    "print(\"Original Table:\")\n",
    "print(df)\n",
    "\n",
    "# Step 3: Define and append a new entry to the dataset\n",
    "new_entry = {'Gender': 'male', 'Height': 5.9, 'Weight': 160, 'Foot_Size': 10}  # Example new entry\n",
    "new_entry_df = pd.DataFrame([new_entry])  # Convert to DataFrame for concatenation\n",
    "df = pd.concat([df, new_entry_df], ignore_index=True)  # Add the new entry\n",
    "\n",
    "# Step 4: Display the updated table\n",
    "print(\"\\nUpdated Table:\")\n",
    "print(df)\n",
    "\n",
    "# Step 5: Encode 'Gender' column to numeric values\n",
    "le = LabelEncoder()\n",
    "df['Gender'] = le.fit_transform(df['Gender'])  # male -> 1, female -> 0\n",
    "\n",
    "# Step 6: Separate features (X) and target (y)\n",
    "X = df[['Height', 'Weight', 'Foot_Size']]\n",
    "y = df['Gender']\n",
    "\n",
    "# Step 7: Train the Decision Tree Classifier\n",
    "clf = DecisionTreeClassifier()\n",
    "clf.fit(X, y)\n",
    "\n",
    "# Step 8: Predict the gender for the new entry\n",
    "new_entry_features = [[new_entry['Height'], new_entry['Weight'], new_entry['Foot_Size']]]\n",
    "prediction = clf.predict(new_entry_features)\n",
    "predicted_gender = le.inverse_transform(prediction)\n",
    "\n",
    "# Display the prediction result for the new entry\n",
    "print(f\"\\nPredicted Gender for the new entry: {predicted_gender[0]}\")\n"
   ]
  },
  {
   "cell_type": "code",
   "execution_count": null,
   "id": "2d3d6889-898b-4bbb-8bca-c0dd04d3b9e5",
   "metadata": {},
   "outputs": [],
   "source": []
  }
 ],
 "metadata": {
  "kernelspec": {
   "display_name": "Python 3 (ipykernel)",
   "language": "python",
   "name": "python3"
  },
  "language_info": {
   "codemirror_mode": {
    "name": "ipython",
    "version": 3
   },
   "file_extension": ".py",
   "mimetype": "text/x-python",
   "name": "python",
   "nbconvert_exporter": "python",
   "pygments_lexer": "ipython3",
   "version": "3.11.7"
  }
 },
 "nbformat": 4,
 "nbformat_minor": 5
}
