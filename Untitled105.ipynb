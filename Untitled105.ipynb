{
 "cells": [
  {
   "cell_type": "code",
   "execution_count": 1,
   "id": "0e2d728e-2201-4796-a47a-2b901dc1a76e",
   "metadata": {},
   "outputs": [
    {
     "name": "stderr",
     "output_type": "stream",
     "text": [
      "C:\\Users\\SED\\AppData\\Local\\Temp\\ipykernel_6288\\2916934070.py:14: FutureWarning: DataFrame.applymap has been deprecated. Use DataFrame.map instead.\n",
      "  basket = basket.applymap(lambda x: 1 if x > 0 else 0)\n",
      "C:\\Users\\SED\\anaconda3\\Lib\\site-packages\\mlxtend\\frequent_patterns\\fpcommon.py:161: DeprecationWarning: DataFrames with non-bool types result in worse computationalperformance and their support might be discontinued in the future.Please use a DataFrame with bool type\n",
      "  warnings.warn(\n"
     ]
    },
    {
     "name": "stdout",
     "output_type": "stream",
     "text": [
      "\n",
      "Frequent Itemsets with Support >= 7%:\n",
      "    support                              itemsets\n",
      "0  0.085576             (JUMBO BAG RED RETROSPOT)\n",
      "1  0.081363            (REGENCY CAKESTAND 3 TIER)\n",
      "2  0.092449  (WHITE HANGING HEART T-LIGHT HOLDER)\n"
     ]
    },
    {
     "name": "stderr",
     "output_type": "stream",
     "text": [
      "C:\\Users\\SED\\anaconda3\\Lib\\site-packages\\mlxtend\\frequent_patterns\\fpcommon.py:161: DeprecationWarning: DataFrames with non-bool types result in worse computationalperformance and their support might be discontinued in the future.Please use a DataFrame with bool type\n",
      "  warnings.warn(\n"
     ]
    },
    {
     "name": "stdout",
     "output_type": "stream",
     "text": [
      "\n",
      "Frequent Itemsets with Support >= 5%:\n",
      "    support                              itemsets\n",
      "0  0.059519       (ASSORTED COLOUR BIRD ORNAMENT)\n",
      "1  0.085576             (JUMBO BAG RED RETROSPOT)\n",
      "2  0.052074             (LUNCH BAG  BLACK SKULL.)\n",
      "3  0.063978             (LUNCH BAG RED RETROSPOT)\n",
      "4  0.051092     (NATURAL SLATE HEART CHALKBOARD )\n",
      "5  0.053997     (PACK OF 72 RETROSPOT CAKE CASES)\n",
      "6  0.068968                       (PARTY BUNTING)\n",
      "7  0.081363            (REGENCY CAKESTAND 3 TIER)\n",
      "8  0.056655   (SET OF 3 CAKE TINS PANTRY DESIGN )\n",
      "9  0.092449  (WHITE HANGING HEART T-LIGHT HOLDER)\n"
     ]
    },
    {
     "ename": "TypeError",
     "evalue": "association_rules() missing 1 required positional argument: 'num_itemsets'",
     "output_type": "error",
     "traceback": [
      "\u001b[1;31m---------------------------------------------------------------------------\u001b[0m",
      "\u001b[1;31mTypeError\u001b[0m                                 Traceback (most recent call last)",
      "Cell \u001b[1;32mIn[1], line 27\u001b[0m\n\u001b[0;32m     24\u001b[0m \u001b[38;5;28mprint\u001b[39m(frequent_itemsets_5)\n\u001b[0;32m     26\u001b[0m \u001b[38;5;66;03m# Step 3: Generate association rules for itemsets with a support of at least 5%\u001b[39;00m\n\u001b[1;32m---> 27\u001b[0m rules \u001b[38;5;241m=\u001b[39m association_rules(frequent_itemsets_5, metric\u001b[38;5;241m=\u001b[39m\u001b[38;5;124m\"\u001b[39m\u001b[38;5;124mlift\u001b[39m\u001b[38;5;124m\"\u001b[39m, min_threshold\u001b[38;5;241m=\u001b[39m\u001b[38;5;241m1.0\u001b[39m)\n\u001b[0;32m     28\u001b[0m \u001b[38;5;28mprint\u001b[39m(\u001b[38;5;124m\"\u001b[39m\u001b[38;5;130;01m\\n\u001b[39;00m\u001b[38;5;124mAssociation Rules:\u001b[39m\u001b[38;5;124m\"\u001b[39m)\n\u001b[0;32m     29\u001b[0m \u001b[38;5;28mprint\u001b[39m(rules)\n",
      "\u001b[1;31mTypeError\u001b[0m: association_rules() missing 1 required positional argument: 'num_itemsets'"
     ]
    }
   ],
   "source": [
    "import pandas as pd\n",
    "from mlxtend.frequent_patterns import apriori\n",
    "from mlxtend.frequent_patterns import association_rules\n",
    "\n",
    "# Load dataset\n",
    "file_path = \"Online_Retail.xlsx\"  # Update this with the correct path if needed\n",
    "data = pd.read_excel(file_path, sheet_name=\"Online Retail\")\n",
    "\n",
    "# Preprocess the data\n",
    "# Create a basket with each row as a transaction and items as columns\n",
    "basket = data.groupby(['InvoiceNo', 'Description'])['Quantity'].sum().unstack().fillna(0)\n",
    "\n",
    "# Convert quantities into binary (1 if purchased, 0 otherwise)\n",
    "basket = basket.applymap(lambda x: 1 if x > 0 else 0)\n",
    "\n",
    "# Step 1: Find frequent itemsets with a support value of at least 7%\n",
    "frequent_itemsets_7 = apriori(basket, min_support=0.07, use_colnames=True)\n",
    "print(\"\\nFrequent Itemsets with Support >= 7%:\")\n",
    "print(frequent_itemsets_7)\n",
    "\n",
    "# Step 2: Find frequent itemsets with a support value of at least 5%\n",
    "frequent_itemsets_5 = apriori(basket, min_support=0.05, use_colnames=True)\n",
    "print(\"\\nFrequent Itemsets with Support >= 5%:\")\n",
    "print(frequent_itemsets_5)\n",
    "\n",
    "# Step 3: Generate association rules for itemsets with a support of at least 5%\n",
    "rules = association_rules(frequent_itemsets_5, metric=\"lift\", min_threshold=1.0)\n",
    "print(\"\\nAssociation Rules:\")\n",
    "print(rules)"
   ]
  },
  {
   "cell_type": "code",
   "execution_count": null,
   "id": "ab6eda19-b346-49c5-b95b-99b887418c40",
   "metadata": {},
   "outputs": [],
   "source": []
  }
 ],
 "metadata": {
  "kernelspec": {
   "display_name": "Python 3 (ipykernel)",
   "language": "python",
   "name": "python3"
  },
  "language_info": {
   "codemirror_mode": {
    "name": "ipython",
    "version": 3
   },
   "file_extension": ".py",
   "mimetype": "text/x-python",
   "name": "python",
   "nbconvert_exporter": "python",
   "pygments_lexer": "ipython3",
   "version": "3.11.7"
  }
 },
 "nbformat": 4,
 "nbformat_minor": 5
}
