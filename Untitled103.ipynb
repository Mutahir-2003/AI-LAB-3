{
 "cells": [
  {
   "cell_type": "code",
   "execution_count": 1,
   "id": "4cc8e727-5cb1-496b-ba2b-f93bc3f32515",
   "metadata": {},
   "outputs": [
    {
     "name": "stderr",
     "output_type": "stream",
     "text": [
      "C:\\Users\\SED\\AppData\\Local\\Temp\\ipykernel_13564\\3348374561.py:20: FutureWarning: DataFrame.applymap has been deprecated. Use DataFrame.map instead.\n",
      "  basket = basket.applymap(lambda x: 1 if x > 0 else 0)\n",
      "C:\\Users\\SED\\anaconda3\\Lib\\site-packages\\mlxtend\\frequent_patterns\\fpcommon.py:161: DeprecationWarning: DataFrames with non-bool types result in worse computationalperformance and their support might be discontinued in the future.Please use a DataFrame with bool type\n",
      "  warnings.warn(\n"
     ]
    },
    {
     "name": "stdout",
     "output_type": "stream",
     "text": [
      "\n",
      "Frequent Itemsets:\n",
      "      support                                           itemsets\n",
      "0    0.047427                           (6 RIBBONS RUSTIC CHARM)\n",
      "1    0.030691                  (60 CAKE CASES VINTAGE CHRISTMAS)\n",
      "2    0.041120                      (60 TEATIME FAIRY CAKE CASES)\n",
      "3    0.030542                   (72 SWEETHEART FAIRY CAKE CASES)\n",
      "4    0.048669                       (ALARM CLOCK BAKELIKE GREEN)\n",
      "..        ...                                                ...\n",
      "131  0.040971  (JUMBO BAG PINK POLKADOT, JUMBO BAG RED RETROS...\n",
      "132  0.033770  (JUMBO BAG RED RETROSPOT, JUMBO SHOPPER VINTAG...\n",
      "133  0.035956  (JUMBO BAG RED RETROSPOT, JUMBO STORAGE BAG SUKI)\n",
      "134  0.031834  (LUNCH BAG  BLACK SKULL., LUNCH BAG RED RETROS...\n",
      "135  0.030095  (LUNCH BAG RED RETROSPOT, LUNCH BAG PINK POLKA...\n",
      "\n",
      "[136 rows x 2 columns]\n"
     ]
    }
   ],
   "source": [
    "# Import necessary libraries\n",
    "import pandas as pd\n",
    "from mlxtend.frequent_patterns import apriori\n",
    "from mlxtend.frequent_patterns import association_rules\n",
    "\n",
    "# Load the dataset\n",
    "file_path = \"Online_retail.xlsx\"  # Path to your dataset\n",
    "df = pd.read_excel(file_path)\n",
    "\n",
    "# Data Preprocessing\n",
    "# Drop rows with missing values\n",
    "df = df.dropna(subset=[\"InvoiceNo\", \"StockCode\", \"Description\"])\n",
    "\n",
    "# Filter for positive quantities only\n",
    "df = df[df[\"Quantity\"] > 0]\n",
    "\n",
    "# Create a basket format for transactions (one-hot encoded)\n",
    "basket = df.groupby(['InvoiceNo', 'Description'])['Quantity'].sum().unstack().reset_index().fillna(0)\n",
    "basket.set_index('InvoiceNo', inplace=True)\n",
    "basket = basket.applymap(lambda x: 1 if x > 0 else 0)\n",
    "\n",
    "# Apply Apriori algorithm to find frequent itemsets with minimum support of 0.03\n",
    "frequent_itemsets = apriori(basket, min_support=0.03, use_colnames=True)\n",
    "\n",
    "# Display frequent itemsets only\n",
    "print(\"\\nFrequent Itemsets:\")\n",
    "print(frequent_itemsets)"
   ]
  },
  {
   "cell_type": "code",
   "execution_count": null,
   "id": "35177aa4-eb66-4f91-b5b4-cd88e337d24f",
   "metadata": {},
   "outputs": [],
   "source": []
  }
 ],
 "metadata": {
  "kernelspec": {
   "display_name": "Python 3 (ipykernel)",
   "language": "python",
   "name": "python3"
  },
  "language_info": {
   "codemirror_mode": {
    "name": "ipython",
    "version": 3
   },
   "file_extension": ".py",
   "mimetype": "text/x-python",
   "name": "python",
   "nbconvert_exporter": "python",
   "pygments_lexer": "ipython3",
   "version": "3.11.7"
  }
 },
 "nbformat": 4,
 "nbformat_minor": 5
}
