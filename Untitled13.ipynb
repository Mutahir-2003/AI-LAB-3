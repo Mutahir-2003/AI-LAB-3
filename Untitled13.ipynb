{
 "cells": [
  {
   "cell_type": "code",
   "execution_count": 3,
   "id": "c8586cb6-378b-4c26-b3c6-c2d485efe01e",
   "metadata": {},
   "outputs": [
    {
     "name": "stdout",
     "output_type": "stream",
     "text": [
      "Ratings Dataset:\n",
      "       Dilwale Dulhania Le Jayenge  3 Idiots  Dangal   PK  Chennai Express  \\\n",
      "User                                                                         \n",
      "User1                          5.0       4.0     NaN  5.0              4.0   \n",
      "User2                          4.0       5.0     5.0  4.0              NaN   \n",
      "User3                          NaN       5.0     4.0  NaN              3.0   \n",
      "User4                          4.0       NaN     4.0  4.0              4.0   \n",
      "User5                          5.0       4.0     NaN  5.0              4.0   \n",
      "\n",
      "       Kabhi Khushi Kabhie Gham  Bajrangi Bhaijaan  Sanju  Golmaal  \\\n",
      "User                                                                 \n",
      "User1                       5.0                NaN    5.0        4   \n",
      "User2                       4.0                5.0    4.0        3   \n",
      "User3                       4.0                4.0    NaN        4   \n",
      "User4                       NaN                4.0    5.0        4   \n",
      "User5                       4.0                5.0    NaN        5   \n",
      "\n",
      "       Zindagi Na Milegi Dobara  \n",
      "User                             \n",
      "User1                       NaN  \n",
      "User2                       5.0  \n",
      "User3                       4.0  \n",
      "User4                       5.0  \n",
      "User5                       4.0  \n",
      "shapes (5,) and (10,) not aligned: 5 (dim 0) != 10 (dim 0)\n"
     ]
    },
    {
     "name": "stderr",
     "output_type": "stream",
     "text": [
      "C:\\Users\\pc167\\AppData\\Roaming\\Python\\Python313\\site-packages\\sklearn\\utils\\validation.py:2739: UserWarning: X does not have valid feature names, but NearestNeighbors was fitted with feature names\n",
      "  warnings.warn(\n"
     ]
    }
   ],
   "source": [
    "import pandas as pd\n",
    "from sklearn.metrics.pairwise import cosine_similarity\n",
    "from sklearn.neighbors import NearestNeighbors\n",
    "import numpy as np\n",
    "ratings = pd.read_csv('Movies1.csv', index_col=0)\n",
    "print(\"Ratings Dataset:\")\n",
    "print(ratings)\n",
    "def recommend_movies(user_name, k=5):\n",
    "    # Fill NaN values with 0 for computation\n",
    "    ratings_filled = ratings.fillna(0)\n",
    "    item_similarity = cosine_similarity(ratings_filled.T)\n",
    "    similarity_df = pd.DataFrame(item_similarity, index=ratings.columns, columns=ratings.columns)\n",
    "    knn = NearestNeighbors(metric='cosine', algorithm='brute')\n",
    "    knn.fit(ratings_filled.T)\n",
    "    try:\n",
    "        user_ratings = ratings.loc[user_name]\n",
    "    except KeyError:\n",
    "        raise ValueError(f\"User '{user_name}' not found in the dataset.\")\n",
    "    predicted_ratings = {}\n",
    "    for movie in ratings.columns:\n",
    "        if pd.isna(user_ratings[movie]):\n",
    "            try:\n",
    "                movie_vector = ratings_filled.T.loc[movie].values.reshape(1, -1)\n",
    "                distances, indices = knn.kneighbors(movie_vector, n_neighbors=k)\n",
    "                similar_movies = similarity_df[movie].iloc[indices.flatten()]\n",
    "                weighted_sum = np.dot(similar_movies, ratings_filled.loc[user_name])\n",
    "                similarity_sum = similar_movies.sum()\n",
    "                predicted_ratings[movie] = weighted_sum / similarity_sum if similarity_sum != 0 else 0\n",
    "            except KeyError:\n",
    "                continue\n",
    "\n",
    "    recommended_movies = sorted(predicted_ratings.items(), key=lambda x: x[1], reverse=True)\n",
    "    return [movie for movie, rating in recommended_movies]\n",
    "user_to_recommend = 'User1'\n",
    "try:\n",
    "    recommended_movies = recommend_movies(user_to_recommend)\n",
    "    print(f\"Recommended movies for {user_to_recommend}: {recommended_movies}\")\n",
    "except ValueError as e:\n",
    "    print(e)\n",
    "    \n",
    "\n",
    "\n"
   ]
  },
  {
   "cell_type": "code",
   "execution_count": null,
   "id": "9e3aa609-bb6e-4c28-872f-dc04f9810c91",
   "metadata": {},
   "outputs": [],
   "source": []
  }
 ],
 "metadata": {
  "kernelspec": {
   "display_name": "Python 3 (ipykernel)",
   "language": "python",
   "name": "python3"
  },
  "language_info": {
   "codemirror_mode": {
    "name": "ipython",
    "version": 3
   },
   "file_extension": ".py",
   "mimetype": "text/x-python",
   "name": "python",
   "nbconvert_exporter": "python",
   "pygments_lexer": "ipython3",
   "version": "3.13.0"
  }
 },
 "nbformat": 4,
 "nbformat_minor": 5
}
