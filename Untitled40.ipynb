{
 "cells": [
  {
   "cell_type": "code",
   "execution_count": 2,
   "id": "9bd65ba0-01b6-4712-ae74-ca86ffd2822c",
   "metadata": {},
   "outputs": [
    {
     "name": "stdout",
     "output_type": "stream",
     "text": [
      "Prediction for Overcast and Mild: Yes\n"
     ]
    },
    {
     "name": "stderr",
     "output_type": "stream",
     "text": [
      "C:\\Users\\Administrator\\anaconda3\\Lib\\site-packages\\sklearn\\base.py:439: UserWarning: X does not have valid feature names, but CategoricalNB was fitted with feature names\n",
      "  warnings.warn(\n"
     ]
    }
   ],
   "source": [
    "import pandas as pd\n",
    "from sklearn.naive_bayes import CategoricalNB\n",
    "from sklearn.preprocessing import LabelEncoder\n",
    "\n",
    "# Step 1: Prepare the data\n",
    "data = {\n",
    "    'Outlook': ['Sunny', 'Sunny', 'Overcast', 'Rainy', 'Rainy', 'Rainy', 'Overcast', \n",
    "                'Sunny', 'Sunny', 'Rainy', 'Sunny', 'Overcast', 'Overcast', 'Rainy'],\n",
    "    'Temperature': ['Hot', 'Hot', 'Hot', 'Mild', 'Cool', 'Cool', 'Cool', \n",
    "                    'Mild', 'Cool', 'Mild', 'Mild', 'Mild', 'Hot', 'Mild'],\n",
    "    'Play': ['No', 'No', 'Yes', 'Yes', 'Yes', 'No', 'Yes', \n",
    "             'No', 'Yes', 'Yes', 'Yes', 'Yes', 'Yes', 'No']\n",
    "}\n",
    "\n",
    "# Step 2: Convert the dataset into a DataFrame\n",
    "df = pd.DataFrame(data)\n",
    "\n",
    "# Step 3: Encode categorical variables\n",
    "label_encoder_outlook = LabelEncoder()\n",
    "label_encoder_temperature = LabelEncoder()\n",
    "label_encoder_play = LabelEncoder()\n",
    "\n",
    "df['Outlook_encoded'] = label_encoder_outlook.fit_transform(df['Outlook'])\n",
    "df['Temperature_encoded'] = label_encoder_temperature.fit_transform(df['Temperature'])\n",
    "df['Play_encoded'] = label_encoder_play.fit_transform(df['Play'])\n",
    "\n",
    "# Features and target variable\n",
    "X = df[['Outlook_encoded', 'Temperature_encoded']]\n",
    "y = df['Play_encoded']\n",
    "\n",
    "# Step 4: Train the Naive Bayes model\n",
    "model = CategoricalNB()\n",
    "model.fit(X, y)\n",
    "\n",
    "# Step 5: Make a prediction for \"Overcast\" and \"Mild\"\n",
    "outlook_test = label_encoder_outlook.transform(['Overcast'])[0]\n",
    "temperature_test = label_encoder_temperature.transform(['Mild'])[0]\n",
    "prediction = model.predict([[outlook_test, temperature_test]])\n",
    "\n",
    "# Decode the prediction to get the class label\n",
    "play_prediction = label_encoder_play.inverse_transform(prediction)[0]\n",
    "\n",
    "print(f\"Prediction for Overcast and Mild: {play_prediction}\")"
   ]
  },
  {
   "cell_type": "code",
   "execution_count": null,
   "id": "42b71305-0263-4d2b-814a-52691bc6cd2c",
   "metadata": {},
   "outputs": [],
   "source": []
  }
 ],
 "metadata": {
  "kernelspec": {
   "display_name": "Python 3 (ipykernel)",
   "language": "python",
   "name": "python3"
  },
  "language_info": {
   "codemirror_mode": {
    "name": "ipython",
    "version": 3
   },
   "file_extension": ".py",
   "mimetype": "text/x-python",
   "name": "python",
   "nbconvert_exporter": "python",
   "pygments_lexer": "ipython3",
   "version": "3.11.7"
  }
 },
 "nbformat": 4,
 "nbformat_minor": 5
}
