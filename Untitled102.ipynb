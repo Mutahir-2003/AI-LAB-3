{
 "cells": [
  {
   "cell_type": "code",
   "execution_count": 1,
   "id": "3f37b6c9-cf26-4b53-8841-7312edfb5a6e",
   "metadata": {},
   "outputs": [
    {
     "name": "stderr",
     "output_type": "stream",
     "text": [
      "C:\\Users\\SED\\AppData\\Local\\Temp\\ipykernel_13116\\2929729006.py:16: FutureWarning: DataFrame.applymap has been deprecated. Use DataFrame.map instead.\n",
      "  basket = basket.applymap(lambda x: 1 if x > 0 else 0)\n"
     ]
    },
    {
     "name": "stdout",
     "output_type": "stream",
     "text": [
      "Processed Dataset (Transaction Format):\n",
      "Description   4 PURPLE FLOCK DINNER CANDLES   50'S CHRISTMAS GIFT BAG LARGE  \\\n",
      "InvoiceNo                                                                     \n",
      "536365                                    0                               0   \n",
      "536366                                    0                               0   \n",
      "536367                                    0                               0   \n",
      "536368                                    0                               0   \n",
      "536369                                    0                               0   \n",
      "\n",
      "Description   DOLLY GIRL BEAKER   I LOVE LONDON MINI BACKPACK  \\\n",
      "InvoiceNo                                                       \n",
      "536365                        0                             0   \n",
      "536366                        0                             0   \n",
      "536367                        0                             0   \n",
      "536368                        0                             0   \n",
      "536369                        0                             0   \n",
      "\n",
      "Description   I LOVE LONDON MINI RUCKSACK   NINE DRAWER OFFICE TIDY  \\\n",
      "InvoiceNo                                                             \n",
      "536365                                  0                         0   \n",
      "536366                                  0                         0   \n",
      "536367                                  0                         0   \n",
      "536368                                  0                         0   \n",
      "536369                                  0                         0   \n",
      "\n",
      "Description   OVAL WALL MIRROR DIAMANTE    RED SPOT GIFT BAG LARGE  \\\n",
      "InvoiceNo                                                            \n",
      "536365                                 0                         0   \n",
      "536366                                 0                         0   \n",
      "536367                                 0                         0   \n",
      "536368                                 0                         0   \n",
      "536369                                 0                         0   \n",
      "\n",
      "Description   SET 2 TEA TOWELS I LOVE LONDON    SPACEBOY BABY GIFT SET  ...  \\\n",
      "InvoiceNo                                                               ...   \n",
      "536365                                      0                        0  ...   \n",
      "536366                                      0                        0  ...   \n",
      "536367                                      0                        0  ...   \n",
      "536368                                      0                        0  ...   \n",
      "536369                                      0                        0  ...   \n",
      "\n",
      "Description  returned  taig adjust  test  to push order througha s stock was   \\\n",
      "InvoiceNo                                                                       \n",
      "536365              0            0     0                                    0   \n",
      "536366              0            0     0                                    0   \n",
      "536367              0            0     0                                    0   \n",
      "536368              0            0     0                                    0   \n",
      "536369              0            0     0                                    0   \n",
      "\n",
      "Description  website fixed  wrongly coded 20713  wrongly coded 23343  \\\n",
      "InvoiceNo                                                              \n",
      "536365                   0                    0                    0   \n",
      "536366                   0                    0                    0   \n",
      "536367                   0                    0                    0   \n",
      "536368                   0                    0                    0   \n",
      "536369                   0                    0                    0   \n",
      "\n",
      "Description  wrongly marked  wrongly marked 23343  \\\n",
      "InvoiceNo                                           \n",
      "536365                    0                     0   \n",
      "536366                    0                     0   \n",
      "536367                    0                     0   \n",
      "536368                    0                     0   \n",
      "536369                    0                     0   \n",
      "\n",
      "Description  wrongly sold (22719) barcode  \n",
      "InvoiceNo                                  \n",
      "536365                                  0  \n",
      "536366                                  0  \n",
      "536367                                  0  \n",
      "536368                                  0  \n",
      "536369                                  0  \n",
      "\n",
      "[5 rows x 4077 columns]\n"
     ]
    },
    {
     "name": "stderr",
     "output_type": "stream",
     "text": [
      "C:\\Users\\SED\\anaconda3\\Lib\\site-packages\\mlxtend\\frequent_patterns\\fpcommon.py:161: DeprecationWarning: DataFrames with non-bool types result in worse computationalperformance and their support might be discontinued in the future.Please use a DataFrame with bool type\n",
      "  warnings.warn(\n"
     ]
    },
    {
     "name": "stdout",
     "output_type": "stream",
     "text": [
      "\n",
      "Frequent Itemsets:\n",
      "      support                                           itemsets\n",
      "0    0.047427                           (6 RIBBONS RUSTIC CHARM)\n",
      "1    0.030691                  (60 CAKE CASES VINTAGE CHRISTMAS)\n",
      "2    0.041120                      (60 TEATIME FAIRY CAKE CASES)\n",
      "3    0.030542                   (72 SWEETHEART FAIRY CAKE CASES)\n",
      "4    0.048669                       (ALARM CLOCK BAKELIKE GREEN)\n",
      "..        ...                                                ...\n",
      "131  0.040971  (JUMBO BAG PINK POLKADOT, JUMBO BAG RED RETROS...\n",
      "132  0.033770  (JUMBO SHOPPER VINTAGE RED PAISLEY, JUMBO BAG ...\n",
      "133  0.035956  (JUMBO STORAGE BAG SUKI, JUMBO BAG RED RETROSPOT)\n",
      "134  0.031834  (LUNCH BAG  BLACK SKULL., LUNCH BAG RED RETROS...\n",
      "135  0.030095  (LUNCH BAG PINK POLKADOT, LUNCH BAG RED RETROS...\n",
      "\n",
      "[136 rows x 2 columns]\n"
     ]
    },
    {
     "ename": "TypeError",
     "evalue": "association_rules() missing 1 required positional argument: 'num_itemsets'",
     "output_type": "error",
     "traceback": [
      "\u001b[1;31m---------------------------------------------------------------------------\u001b[0m",
      "\u001b[1;31mTypeError\u001b[0m                                 Traceback (most recent call last)",
      "Cell \u001b[1;32mIn[1], line 30\u001b[0m\n\u001b[0;32m     27\u001b[0m \u001b[38;5;28mprint\u001b[39m(frequent_itemsets)\n\u001b[0;32m     29\u001b[0m \u001b[38;5;66;03m# Generate association rules with minimum confidence of 0.7\u001b[39;00m\n\u001b[1;32m---> 30\u001b[0m rules \u001b[38;5;241m=\u001b[39m association_rules(frequent_itemsets, metric\u001b[38;5;241m=\u001b[39m\u001b[38;5;124m\"\u001b[39m\u001b[38;5;124mconfidence\u001b[39m\u001b[38;5;124m\"\u001b[39m, min_threshold\u001b[38;5;241m=\u001b[39m\u001b[38;5;241m0.7\u001b[39m)\n\u001b[0;32m     32\u001b[0m \u001b[38;5;66;03m# Display association rules\u001b[39;00m\n\u001b[0;32m     33\u001b[0m \u001b[38;5;28mprint\u001b[39m(\u001b[38;5;124m\"\u001b[39m\u001b[38;5;130;01m\\n\u001b[39;00m\u001b[38;5;124mAssociation Rules:\u001b[39m\u001b[38;5;124m\"\u001b[39m)\n",
      "\u001b[1;31mTypeError\u001b[0m: association_rules() missing 1 required positional argument: 'num_itemsets'"
     ]
    }
   ],
   "source": [
    "# Import necessary libraries\n",
    "import pandas as pd\n",
    "from mlxtend.frequent_patterns import apriori\n",
    "from mlxtend.frequent_patterns import association_rules\n",
    "# Load the dataset\n",
    "file_path = \"Online_retail.xlsx\"  # Path to your dataset\n",
    "df = pd.read_excel(file_path)\n",
    "# Data Preprocessing\n",
    "# Drop rows with missing values\n",
    "df = df.dropna(subset=[\"InvoiceNo\", \"StockCode\", \"Description\"])\n",
    "# Filter for positive quantities only\n",
    "df = df[df[\"Quantity\"] > 0]\n",
    "# Create a basket format for transactions (one-hot encoded)\n",
    "basket = df.groupby(['InvoiceNo', 'Description'])['Quantity'].sum().unstack().reset_index().fillna(0)\n",
    "basket.set_index('InvoiceNo', inplace=True)\n",
    "basket = basket.applymap(lambda x: 1 if x > 0 else 0)\n",
    "\n",
    "# Display processed dataset\n",
    "print(\"Processed Dataset (Transaction Format):\")\n",
    "print(basket.head())\n",
    "\n",
    "# Apply Apriori algorithm to find frequent itemsets with minimum support of 0.03\n",
    "frequent_itemsets = apriori(basket, min_support=0.03, use_colnames=True)\n",
    "\n",
    "# Display frequent itemsets\n",
    "print(\"\\nFrequent Itemsets:\")\n",
    "print(frequent_itemsets)\n",
    "\n",
    "# Generate association rules with minimum confidence of 0.7\n",
    "rules = association_rules(frequent_itemsets, metric=\"confidence\", min_threshold=0.7)\n",
    "\n",
    "# Display association rules\n",
    "print(\"\\nAssociation Rules:\")\n",
    "print(rules)"
   ]
  },
  {
   "cell_type": "code",
   "execution_count": null,
   "id": "83535df6-0c75-4e08-b42e-d9898a2fd13f",
   "metadata": {},
   "outputs": [],
   "source": []
  }
 ],
 "metadata": {
  "kernelspec": {
   "display_name": "Python 3 (ipykernel)",
   "language": "python",
   "name": "python3"
  },
  "language_info": {
   "codemirror_mode": {
    "name": "ipython",
    "version": 3
   },
   "file_extension": ".py",
   "mimetype": "text/x-python",
   "name": "python",
   "nbconvert_exporter": "python",
   "pygments_lexer": "ipython3",
   "version": "3.11.7"
  }
 },
 "nbformat": 4,
 "nbformat_minor": 5
}
