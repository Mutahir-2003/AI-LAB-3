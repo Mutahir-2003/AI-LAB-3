{
 "cells": [
  {
   "cell_type": "code",
   "execution_count": 1,
   "id": "01e25565-5761-4552-a831-dd739c0abde3",
   "metadata": {},
   "outputs": [
    {
     "name": "stdout",
     "output_type": "stream",
     "text": [
      "Dataset:\n",
      "  Company     Model  Price\n",
      "0  Toyota   Corolla  20000\n",
      "1   Honda     Civic  22000\n",
      "2    Ford     Focus  21000\n",
      "3     BMW  3 Series  45000\n",
      "4    Audi        A4  44000\n",
      "\n",
      "New Centroids (Price):\n",
      "Centroid 1: 45666.67\n",
      "Centroid 2: 20500.00\n",
      "Centroid 3: 55000.00\n",
      "\n",
      "Clustering completed! The updated dataset has been saved as 'cars_with_clusters.csv'.\n"
     ]
    },
    {
     "name": "stderr",
     "output_type": "stream",
     "text": [
      "C:\\Users\\SED\\anaconda3\\Lib\\site-packages\\sklearn\\cluster\\_kmeans.py:1429: UserWarning: KMeans is known to have a memory leak on Windows with MKL, when there are less chunks than available threads. You can avoid it by setting the environment variable OMP_NUM_THREADS=1.\n",
      "  warnings.warn(\n"
     ]
    }
   ],
   "source": [
    "# Import necessary libraries\n",
    "import pandas as pd\n",
    "import numpy as np\n",
    "from sklearn.cluster import KMeans\n",
    "# Load dataset\n",
    "file_path = 'cars.csv'  # Make sure to save the file as cars.csv\n",
    "df = pd.read_csv(file_path)\n",
    "# Display the first few rows of the dataset\n",
    "print(\"Dataset:\")\n",
    "print(df.head())\n",
    "# Select numerical data for clustering (Price in this case)\n",
    "data = df[['Price']]\n",
    "# K-Means Clustering with K=3\n",
    "kmeans = KMeans(n_clusters=3, random_state=42)\n",
    "df['Cluster'] = kmeans.fit_predict(data)\n",
    "# New centroid values\n",
    "centroids = kmeans.cluster_centers_\n",
    "print(\"\\nNew Centroids (Price):\")\n",
    "for i, centroid in enumerate(centroids, start=1):\n",
    "    print(f\"Centroid {i}: {centroid[0]:.2f}\")\n",
    "# Add cluster label to the dataset and save it\n",
    "df.to_csv('cars_with_clusters.csv', index=False)\n",
    "print(\"\\nClustering completed! The updated dataset has been saved as 'cars_with_clusters.csv'.\")"
   ]
  },
  {
   "cell_type": "code",
   "execution_count": null,
   "id": "26ab9720-a9b7-4b3b-8d98-452091584e1b",
   "metadata": {},
   "outputs": [],
   "source": []
  }
 ],
 "metadata": {
  "kernelspec": {
   "display_name": "Python 3 (ipykernel)",
   "language": "python",
   "name": "python3"
  },
  "language_info": {
   "codemirror_mode": {
    "name": "ipython",
    "version": 3
   },
   "file_extension": ".py",
   "mimetype": "text/x-python",
   "name": "python",
   "nbconvert_exporter": "python",
   "pygments_lexer": "ipython3",
   "version": "3.11.7"
  }
 },
 "nbformat": 4,
 "nbformat_minor": 5
}
