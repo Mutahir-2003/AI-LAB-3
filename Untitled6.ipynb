{
 "cells": [
  {
   "cell_type": "code",
   "execution_count": 1,
   "id": "d8398435-72a7-4aeb-aac0-d7d995c9c8de",
   "metadata": {},
   "outputs": [
    {
     "name": "stdout",
     "output_type": "stream",
     "text": [
      "Original DataFrame:\n",
      "      Name  Math  Science  English\n",
      "0    Alice  85.0     78.0      NaN\n",
      "1      Bob  92.0      NaN     88.0\n",
      "2  Charlie   NaN     85.0     90.0\n",
      "3    David  88.0     91.0     84.0\n",
      "\n",
      "DataFrame after Forward Fill:\n",
      "      Name  Math  Science  English\n",
      "0    Alice  85.0     78.0      NaN\n",
      "1      Bob  92.0     78.0     88.0\n",
      "2  Charlie  92.0     85.0     90.0\n",
      "3    David  88.0     91.0     84.0\n"
     ]
    },
    {
     "name": "stderr",
     "output_type": "stream",
     "text": [
      "C:\\Users\\pc167\\AppData\\Local\\Temp\\ipykernel_6612\\2127427030.py:16: FutureWarning: DataFrame.fillna with 'method' is deprecated and will raise in a future version. Use obj.ffill() or obj.bfill() instead.\n",
      "  df_filled = df.fillna(method='ffill')\n"
     ]
    }
   ],
   "source": [
    "import pandas as pd\n",
    "data = {\n",
    "    \"Name\": [\"Alice\", \"Bob\", \"Charlie\", \"David\"],\n",
    "    \"Math\": [85, 92, None, 88],\n",
    "    \"Science\": [78, None, 85, 91],\n",
    "    \"English\": [None, 88, 90, 84]\n",
    "}\n",
    "# Creating a DataFrame\n",
    "df = pd.DataFrame(data)\n",
    "\n",
    "# Display the DataFrame before filling missing values\n",
    "print(\"Original DataFrame:\")\n",
    "print(df)\n",
    "\n",
    "# Applying forward fill to interpolate missing values\n",
    "df_filled = df.fillna(method='ffill')\n",
    "\n",
    "# Display the DataFrame after forward fill\n",
    "print(\"\\nDataFrame after Forward Fill:\")\n",
    "print(df_filled)\n"
   ]
  },
  {
   "cell_type": "code",
   "execution_count": null,
   "id": "e4494f5b-26a7-4c33-863c-086e0373f679",
   "metadata": {},
   "outputs": [],
   "source": []
  }
 ],
 "metadata": {
  "kernelspec": {
   "display_name": "Python 3 (ipykernel)",
   "language": "python",
   "name": "python3"
  },
  "language_info": {
   "codemirror_mode": {
    "name": "ipython",
    "version": 3
   },
   "file_extension": ".py",
   "mimetype": "text/x-python",
   "name": "python",
   "nbconvert_exporter": "python",
   "pygments_lexer": "ipython3",
   "version": "3.13.0"
  }
 },
 "nbformat": 4,
 "nbformat_minor": 5
}
