{
 "cells": [
  {
   "cell_type": "code",
   "execution_count": 1,
   "id": "6a94df76-b070-4556-822a-68b3a6f808f1",
   "metadata": {},
   "outputs": [
    {
     "name": "stdout",
     "output_type": "stream",
     "text": [
      "Prediction for Company=Honda and Car Model=Sedan: Yes\n",
      "\n",
      "Confusion Matrix:\n",
      " [[0 3]\n",
      " [0 1]]\n",
      "\n",
      "Classification Report:\n",
      "               precision    recall  f1-score   support\n",
      "\n",
      "          No       0.00      0.00      0.00         3\n",
      "         Yes       0.25      1.00      0.40         1\n",
      "\n",
      "    accuracy                           0.25         4\n",
      "   macro avg       0.12      0.50      0.20         4\n",
      "weighted avg       0.06      0.25      0.10         4\n",
      "\n"
     ]
    },
    {
     "name": "stderr",
     "output_type": "stream",
     "text": [
      "C:\\Users\\ABC\\anaconda3\\Lib\\site-packages\\sklearn\\metrics\\_classification.py:1344: UndefinedMetricWarning: Precision and F-score are ill-defined and being set to 0.0 in labels with no predicted samples. Use `zero_division` parameter to control this behavior.\n",
      "  _warn_prf(average, modifier, msg_start, len(result))\n",
      "C:\\Users\\ABC\\anaconda3\\Lib\\site-packages\\sklearn\\metrics\\_classification.py:1344: UndefinedMetricWarning: Precision and F-score are ill-defined and being set to 0.0 in labels with no predicted samples. Use `zero_division` parameter to control this behavior.\n",
      "  _warn_prf(average, modifier, msg_start, len(result))\n",
      "C:\\Users\\ABC\\anaconda3\\Lib\\site-packages\\sklearn\\metrics\\_classification.py:1344: UndefinedMetricWarning: Precision and F-score are ill-defined and being set to 0.0 in labels with no predicted samples. Use `zero_division` parameter to control this behavior.\n",
      "  _warn_prf(average, modifier, msg_start, len(result))\n"
     ]
    }
   ],
   "source": [
    "import pandas as pd\n",
    "from sklearn.model_selection import train_test_split\n",
    "from sklearn.preprocessing import LabelEncoder\n",
    "from sklearn.neighbors import KNeighborsClassifier\n",
    "from sklearn.metrics import confusion_matrix, classification_report\n",
    "\n",
    "# Step 1: Create the dataset\n",
    "data = {\n",
    "    'Company': ['Toyota', 'Toyota', 'Honda', 'Ford', 'Ford', 'Ford', 'Honda', 'Toyota', 'Toyota', 'Ford', \n",
    "                'Ford', 'Toyota', 'Honda', 'Honda', 'Honda', 'Ford'],\n",
    "    'Car Model': ['SUV', 'Sedan', 'Sedan', 'Truck', 'Hatchback', 'Hatchback', 'Hatchback', 'Truck', 'SUV', \n",
    "                  'SUV', 'SUV', 'Truck', 'Sedan', 'Sedan', 'SUV', 'Sedan'],\n",
    "    'Buy': ['No', 'No', 'Yes', 'Yes', 'Yes', 'No', 'Yes', 'No', 'No', 'Yes', 'Yes', 'Yes', 'Yes', 'Yes', 'Yes', 'No']\n",
    "}\n",
    "\n",
    "df = pd.DataFrame(data)\n",
    "\n",
    "# Step 2: Encode the categorical variables\n",
    "label_encoder_company = LabelEncoder()\n",
    "label_encoder_car_model = LabelEncoder()\n",
    "label_encoder_buy = LabelEncoder()\n",
    "df['Company'] = label_encoder_company.fit_transform(df['Company'])\n",
    "df['Car Model'] = label_encoder_car_model.fit_transform(df['Car Model'])\n",
    "df['Buy'] = label_encoder_buy.fit_transform(df['Buy'])\n",
    "\n",
    "# Step 3: Separate features and target variable\n",
    "X = df[['Company', 'Car Model']]\n",
    "y = df['Buy']\n",
    "\n",
    "# Step 4: Split the data into training and testing sets\n",
    "X_train, X_test, y_train, y_test = train_test_split(X, y, test_size=0.2, random_state=42)\n",
    "\n",
    "# Step 5: Train the KNN model\n",
    "knn = KNeighborsClassifier(n_neighbors=3)\n",
    "knn.fit(X_train, y_train)\n",
    "\n",
    "# Step 6: Predict for a new instance (Honda, Sedan)\n",
    "new_data = pd.DataFrame([[label_encoder_company.transform(['Honda'])[0], \n",
    "                          label_encoder_car_model.transform(['Sedan'])[0]]], \n",
    "                        columns=['Company', 'Car Model'])\n",
    "predicted_buy = knn.predict(new_data)\n",
    "\n",
    "# Step 7: Evaluate the model using confusion matrix\n",
    "y_pred = knn.predict(X_test)\n",
    "conf_matrix = confusion_matrix(y_test, y_pred)\n",
    "class_report = classification_report(y_test, y_pred, target_names=['No', 'Yes'])\n",
    "predicted_buy_text = label_encoder_buy.inverse_transform(predicted_buy)[0]\n",
    "\n",
    "# Display the results\n",
    "print(\"Prediction for Company=Honda and Car Model=Sedan:\", predicted_buy_text)\n",
    "print(\"\\nConfusion Matrix:\\n\", conf_matrix)\n",
    "print(\"\\nClassification Report:\\n\", class_report)"
   ]
  },
  {
   "cell_type": "code",
   "execution_count": null,
   "id": "02035dec-da5d-4c33-9624-cba221c0c386",
   "metadata": {},
   "outputs": [],
   "source": []
  }
 ],
 "metadata": {
  "kernelspec": {
   "display_name": "Python 3 (ipykernel)",
   "language": "python",
   "name": "python3"
  },
  "language_info": {
   "codemirror_mode": {
    "name": "ipython",
    "version": 3
   },
   "file_extension": ".py",
   "mimetype": "text/x-python",
   "name": "python",
   "nbconvert_exporter": "python",
   "pygments_lexer": "ipython3",
   "version": "3.11.7"
  }
 },
 "nbformat": 4,
 "nbformat_minor": 5
}
