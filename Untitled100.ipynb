{
 "cells": [
  {
   "cell_type": "code",
   "execution_count": 1,
   "id": "006dee4f-e85b-467f-af7c-655865b48418",
   "metadata": {},
   "outputs": [
    {
     "name": "stdout",
     "output_type": "stream",
     "text": [
      "Dataset:\n",
      "      Name  Income  Age\n",
      "0    Alice   40000   25\n",
      "1      Bob   42000   26\n",
      "2  Charlie   39000   25\n",
      "3    David   20000   45\n",
      "4   Edward   22000   46\n",
      "5    Fiona   21000   47\n",
      "6   George   60000   65\n",
      "7   Hannah   62000   66\n",
      "8      Ian   61000   67\n",
      "\n",
      "New Centroids:\n",
      "Centroid 1: [21000.    46.]\n",
      "Centroid 2: [61000.    66.]\n",
      "Centroid 3: [4.03333333e+04 2.53333333e+01]\n",
      "\n",
      "Dataset with Clusters:\n",
      "      Name  Income  Age  Cluster\n",
      "0    Alice   40000   25        2\n",
      "1      Bob   42000   26        2\n",
      "2  Charlie   39000   25        2\n",
      "3    David   20000   45        0\n",
      "4   Edward   22000   46        0\n",
      "5    Fiona   21000   47        0\n",
      "6   George   60000   65        1\n",
      "7   Hannah   62000   66        1\n",
      "8      Ian   61000   67        1\n"
     ]
    },
    {
     "name": "stderr",
     "output_type": "stream",
     "text": [
      "C:\\Users\\SED\\anaconda3\\Lib\\site-packages\\sklearn\\cluster\\_kmeans.py:1429: UserWarning: KMeans is known to have a memory leak on Windows with MKL, when there are less chunks than available threads. You can avoid it by setting the environment variable OMP_NUM_THREADS=1.\n",
      "  warnings.warn(\n"
     ]
    }
   ],
   "source": [
    "import pandas as pd\n",
    "import numpy as np\n",
    "from sklearn.cluster import KMeans\n",
    "\n",
    "# Load dataset\n",
    "file_path = 'income.csv'  # Ensure the dataset is saved as income.csv\n",
    "data = pd.read_csv(file_path)\n",
    "\n",
    "# Display the first few rows of the dataset\n",
    "print(\"Dataset:\")\n",
    "print(data)\n",
    "\n",
    "# K-Means Clustering with K=3\n",
    "kmeans = KMeans(n_clusters=3, random_state=42)\n",
    "data['Cluster'] = kmeans.fit_predict(data[['Income', 'Age']])\n",
    "\n",
    "# New centroid values\n",
    "centroids = kmeans.cluster_centers_\n",
    "print(\"\\nNew Centroids:\")\n",
    "for i, centroid in enumerate(centroids, start=1):\n",
    "    print(f\"Centroid {i}: {centroid}\")\n",
    "\n",
    "# Display dataset with cluster labels\n",
    "print(\"\\nDataset with Clusters:\")\n",
    "print(data)"
   ]
  },
  {
   "cell_type": "code",
   "execution_count": null,
   "id": "a715a8ba-8b2a-4876-b452-d3dc34639d82",
   "metadata": {},
   "outputs": [],
   "source": []
  }
 ],
 "metadata": {
  "kernelspec": {
   "display_name": "Python 3 (ipykernel)",
   "language": "python",
   "name": "python3"
  },
  "language_info": {
   "codemirror_mode": {
    "name": "ipython",
    "version": 3
   },
   "file_extension": ".py",
   "mimetype": "text/x-python",
   "name": "python",
   "nbconvert_exporter": "python",
   "pygments_lexer": "ipython3",
   "version": "3.11.7"
  }
 },
 "nbformat": 4,
 "nbformat_minor": 5
}
