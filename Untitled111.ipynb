{
 "cells": [
  {
   "cell_type": "code",
   "execution_count": 1,
   "id": "72780789-a1ac-4a94-945e-9f751e92a1b0",
   "metadata": {},
   "outputs": [
    {
     "name": "stdin",
     "output_type": "stream",
     "text": [
      "Enter number of chromosomes:  6\n",
      "Enter number of genes (length of each chromosome):  6\n"
     ]
    },
    {
     "name": "stdout",
     "output_type": "stream",
     "text": [
      "Enter 6 chromosomes, each with 6 binary genes:\n"
     ]
    },
    {
     "name": "stdin",
     "output_type": "stream",
     "text": [
      "Chromosome 1:  101010\n",
      "Chromosome 2:  110101\n",
      "Chromosome 3:  111000\n",
      "Chromosome 4:  100111\n",
      "Chromosome 5:  010101\n",
      "Chromosome 6:   001011\n"
     ]
    },
    {
     "name": "stdout",
     "output_type": "stream",
     "text": [
      "Invalid input! Please enter a binary string of length 6.\n"
     ]
    },
    {
     "name": "stdin",
     "output_type": "stream",
     "text": [
      "Chromosome 6:  101110\n"
     ]
    },
    {
     "name": "stdout",
     "output_type": "stream",
     "text": [
      "Initial Population S=\n",
      "[[1, 0, 1, 0, 1, 0], [1, 1, 0, 1, 0, 1], [1, 1, 1, 0, 0, 0], [1, 0, 0, 1, 1, 1], [0, 1, 0, 1, 0, 1], [1, 0, 1, 1, 1, 0]]\n",
      "Fitness:\n",
      "[3, 4, 3, 4, 3, 4]\n",
      "Total Fitness: 21\n",
      "\n",
      "Arranging in Descending order based on Fitness:\n",
      "Sorted Population based on Fitness (Descending order):\n",
      "[[1, 1, 0, 1, 0, 1], [1, 0, 0, 1, 1, 1], [1, 0, 1, 1, 1, 0], [1, 0, 1, 0, 1, 0], [1, 1, 1, 0, 0, 0], [0, 1, 0, 1, 0, 1]]\n",
      "\n",
      "Crossover after 2 points between S1, S4 and S5, S6:\n",
      "Population after crossover between S1, S4 and S5, S6:\n",
      "s1= [1, 1, 0, 0, 1, 0] s4= [1, 0, 1, 1, 0, 1]\n",
      "s5= [1, 1, 1, 1, 0, 1] s6= [0, 1, 0, 0, 0, 0]\n",
      "\n",
      "Crossover after 4th point between S2 and S3:\n",
      "Population after crossover between S2 and S3:\n",
      "s2= [1, 0, 0, 1, 1, 0] s3= [1, 0, 1, 1, 1, 1]\n",
      "\n",
      "Mutation:\n",
      "Population after mutation:\n",
      "[[0, 0, 0, 0, 1, 0], [0, 1, 0, 1, 1, 0], [0, 1, 1, 1, 1, 1], [0, 1, 1, 1, 0, 1], [0, 0, 1, 1, 0, 1], [1, 0, 0, 0, 0, 0]]\n",
      "Fitness:\n",
      "[1, 3, 5, 4, 3, 1]\n",
      "Total Fitness: 17\n",
      "\n",
      "Fitness is greater before applying Genetic Algorithm\n"
     ]
    }
   ],
   "source": [
    "def calfitness(S):\n",
    "    fit = []\n",
    "    total = 0\n",
    "    print(\"Fitness:\")\n",
    "    for i in S:\n",
    "        fit.append(i.count(1))  # Count number of 1's in each individual\n",
    "        total += i.count(1)  # Calculate total fitness\n",
    "    print(fit)\n",
    "    print(\"Total Fitness:\", total)\n",
    "    return fit\n",
    "# Function to take input for chromosomes\n",
    "def get_chromosomes(num_chromosomes, num_genes):\n",
    "    chromosomes = []\n",
    "    print(f\"Enter {num_chromosomes} chromosomes, each with {num_genes} binary genes:\")\n",
    "    for i in range(num_chromosomes):\n",
    "        while True:\n",
    "            chrom = input(f\"Chromosome {i + 1}: \")\n",
    "            if len(chrom) == num_genes and all(c in '01' for c in chrom):\n",
    "                chromosomes.append([int(c) for c in chrom])\n",
    "                break\n",
    "            else:\n",
    "                print(f\"Invalid input! Please enter a binary string of length {num_genes}.\")\n",
    "    return chromosomes\n",
    "# Get the number of chromosomes and genes from the user\n",
    "num_chromosomes = int(input(\"Enter number of chromosomes: \"))\n",
    "num_genes = int(input(\"Enter number of genes (length of each chromosome): \"))\n",
    "# Get chromosomes input\n",
    "S = get_chromosomes(num_chromosomes, num_genes)\n",
    "print(\"Initial Population S=\")\n",
    "print(S)\n",
    "# Calculate fitness\n",
    "fit = calfitness(S)\n",
    "# Sorting population based on fitness in descending order\n",
    "print(\"\\nArranging in Descending order based on Fitness:\")\n",
    "desc = S\n",
    "# Sorting based on the count of 1's in each individual (higher fitness first)\n",
    "desc.sort(key=lambda x: x.count(1), reverse=True)\n",
    "# Display sorted population\n",
    "print(\"Sorted Population based on Fitness (Descending order):\")\n",
    "print(desc)\n",
    "# Crossover after 2 points between S1, S4 and S5, S6\n",
    "print(\"\\nCrossover after 2 points between S1, S4 and S5, S6:\")\n",
    "for i in range(3):\n",
    "    # Swap parts of the arrays (crossover at position i)\n",
    "    desc[0][i], desc[3][i] = desc[3][i], desc[0][i]\n",
    "    desc[4][i], desc[5][i] = desc[5][i], desc[4][i]\n",
    "# Swap the individuals\n",
    "desc[0], desc[3] = desc[3], desc[0]\n",
    "desc[4], desc[5] = desc[5], desc[4]\n",
    "# Display the new population after crossover between S1, S4 and S5, S6\n",
    "print(\"Population after crossover between S1, S4 and S5, S6:\")\n",
    "print(\"s1=\", desc[0], \"s4=\", desc[3])\n",
    "print(\"s5=\", desc[4], \"s6=\", desc[5])\n",
    "# Crossover after 4th point between S2 and S3\n",
    "print(\"\\nCrossover after 4th point between S2 and S3:\")\n",
    "for i in range(4, 6):  # Crossover after 4th point (positions 4 and 5)\n",
    "    desc[1][i], desc[2][i] = desc[2][i], desc[1][i]  # Swap the values between S2 and S3\n",
    "# Display the new population after crossover between S2 and S3\n",
    "print(\"Population after crossover between S2 and S3:\")\n",
    "print(\"s2=\", desc[1], \"s3=\", desc[2])\n",
    "# Mutation\n",
    "print(\"\\nMutation:\")\n",
    "for i in range(len(desc)):\n",
    "    for j in range(2):  # Assuming mutation affects only the first two elements\n",
    "        if desc[i][j] == 0:\n",
    "            desc[i][j] = 1\n",
    "        else:\n",
    "            desc[i][j] = 0\n",
    "# Display the population after mutation\n",
    "print(\"Population after mutation:\")\n",
    "print(desc)\n",
    "# Calculate the fitness of the new population after mutation\n",
    "fit2 = calfitness(desc)\n",
    "# Compare the fitness before and after applying the genetic algorithm\n",
    "if sum(fit2) > sum(fit):\n",
    "    print(\"\\nFitness is greater after applying Genetic Algorithm\")\n",
    "else:\n",
    "    print(\"\\nFitness is greater before applying Genetic Algorithm\")"
   ]
  },
  {
   "cell_type": "code",
   "execution_count": null,
   "id": "20dcda4d-2937-40db-b37b-d2e7db8d847f",
   "metadata": {},
   "outputs": [],
   "source": []
  }
 ],
 "metadata": {
  "kernelspec": {
   "display_name": "Python 3 (ipykernel)",
   "language": "python",
   "name": "python3"
  },
  "language_info": {
   "codemirror_mode": {
    "name": "ipython",
    "version": 3
   },
   "file_extension": ".py",
   "mimetype": "text/x-python",
   "name": "python",
   "nbconvert_exporter": "python",
   "pygments_lexer": "ipython3",
   "version": "3.11.7"
  }
 },
 "nbformat": 4,
 "nbformat_minor": 5
}
